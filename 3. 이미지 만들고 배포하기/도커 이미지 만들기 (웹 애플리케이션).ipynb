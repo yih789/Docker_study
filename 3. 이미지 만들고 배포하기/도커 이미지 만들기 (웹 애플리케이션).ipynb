{
 "cells": [
  {
   "cell_type": "markdown",
   "id": "670baed3",
   "metadata": {},
   "source": [
    "## · Nodejs 웹 애플리케이션\n",
    "\n",
    "- fastify 프레임워크 사용\n",
    "\n",
    "```\n",
    "$ npm init \n",
    "$ npm i fastify --save\n",
    "```"
   ]
  },
  {
   "cell_type": "markdown",
   "id": "446bc883",
   "metadata": {},
   "source": [
    "[ app.js ]\n",
    "```js\n",
    "// Require the framework and instantiate it \n",
    "const fastify = require('fastify')({ \n",
    " logger: true \n",
    "}) \n",
    "// Declare a route \n",
    "fastify.get('/', function (request, reply) { \n",
    " reply.send({ hello: 'world' }) \n",
    "}) \n",
    "// Run the server! \n",
    "fastify.listen(3000, '0.0.0.0', function (err, address) { \n",
    " if (err) { \n",
    " fastify.log.error(err) \n",
    " process.exit(1) \n",
    " } \n",
    " fastify.log.info(`server listening on ${address}`) \n",
    "})\n",
    "```"
   ]
  },
  {
   "cell_type": "markdown",
   "id": "10a87096",
   "metadata": {},
   "source": [
    "[ Dockerfile ]\n",
    "\n",
    "```\n",
    "# 1. node 설치\n",
    "FROM ubuntu:20.04 \n",
    "RUN apt-get update \n",
    "RUN DEBIAN_FRONTEND=noninteractive apt-get install -y nodejs npm \n",
    "\n",
    "# 2. 소스 복사\n",
    "COPY . /usr/src/app \n",
    "\n",
    "# 3. Nodejs 패키지 설치\n",
    "WORKDIR /usr/src/app \n",
    "RUN npm install \n",
    "\n",
    "# 4. WEB 서버 실행 (Listen 포트 정의) \n",
    "EXPOSE 3000 \n",
    "CMD node app.js\n",
    "```"
   ]
  },
  {
   "cell_type": "markdown",
   "id": "91081bce",
   "metadata": {},
   "source": [
    "[.dockerignore ]\n",
    "\n",
    "- node_modules/*"
   ]
  },
  {
   "cell_type": "markdown",
   "id": "967bc13c",
   "metadata": {},
   "source": [
    "* 이미지 빌드하기\n",
    "    docker build -t yih789/app .\n",
    "\n",
    "* 컨테이너 실행하기\n",
    "    ocker run --rm -d -p 3000:3000 yih789/app"
   ]
  },
  {
   "cell_type": "markdown",
   "id": "983771cb",
   "metadata": {},
   "source": [
    "[ 개선 된 Dockerfile ]  \n",
    "```\n",
    "# 1. node 이미지 사용\n",
    "FROM node:12-alpine \n",
    "\n",
    "# 2. 패키지 우선 복사\n",
    "COPY ./package* /usr/src/app/ \n",
    "WORKDIR /usr/src/app \n",
    "RUN npm install \n",
    "\n",
    "# 3. 소스 복사\n",
    "COPY . /usr/src/app \n",
    "\n",
    "# 4. WEB 서버 실행 (Listen 포트 정의) \n",
    "EXPOSE 3000 \n",
    "CMD node app.js\n",
    "```"
   ]
  }
 ],
 "metadata": {
  "kernelspec": {
   "display_name": "Python 3 (ipykernel)",
   "language": "python",
   "name": "python3"
  },
  "language_info": {
   "codemirror_mode": {
    "name": "ipython",
    "version": 3
   },
   "file_extension": ".py",
   "mimetype": "text/x-python",
   "name": "python",
   "nbconvert_exporter": "python",
   "pygments_lexer": "ipython3",
   "version": "3.8.12"
  }
 },
 "nbformat": 4,
 "nbformat_minor": 5
}
