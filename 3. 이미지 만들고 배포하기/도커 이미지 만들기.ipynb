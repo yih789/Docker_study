{
 "cells": [
  {
   "cell_type": "markdown",
   "id": "05d7d2ea",
   "metadata": {},
   "source": [
    "## · 예시 - Git 설치\n",
    "\n",
    "* 'ubuntu:latest' 이미지를 'git' 이름으로 컨테이너를 생성하고 내부에 git 프로그램 설치\n",
    "\n",
    "$ docker run -it --name git ubuntu:latest bash  \n",
    "root@2f8bfff679f9:/# git  \n",
    "bash: git: command not found  \n",
    "root@2f8bfff679f9:/# apt-get update  \n",
    "root@2f8bfff679f9:/# apt-get install -y git  \n",
    "root@2f8bfff679f9:/# git --version  \"\n",
    "git version 2.17.1  "
   ]
  },
  {
   "cell_type": "markdown",
   "id": "467dac65",
   "metadata": {},
   "source": [
    "## · 이미지 생성 - commit\n",
    "\n",
    "* 위의 ubuntu이미지 위에 git이 설치된 컨테이너를 새로운 이미지로 생성\n",
    "\n",
    "#### $ docker **commit** git ubuntu:git  \n",
    "=> 'git' 컨테이너를 'ubuntu'라는 이미지 이름과 'git'라는 태그명으로 이미지 생성\n",
    "\n",
    "$docker images | grep ubuntu\n",
    "\n",
    "\\- ubuntu git f95008381e22 17 seconds ago 186MB  \n",
    "\\- ubuntu latest cf0f3ca922e0 5 days ago 64.2MB"
   ]
  },
  {
   "cell_type": "markdown",
   "id": "94d3de9a",
   "metadata": {},
   "source": [
    "## · 이미지 생성 - build\n",
    "```\n",
    "\\- docker build -t yih789/ubuntu:git .  \n",
    "\\- docekr build -t {작성자 이름/이미지명:태그명} {빌트 컨텍스트}\n",
    "```\n",
    "\n",
    "현재 디렉토리의 Dockerfile로 빌드  \n",
    "- -f <Dockerfile 위치> 옵션을 사용해 다른 위치의 Dockerfile 파일 사용 가능  \n",
    "- -t 명령어로 도커 이미지 이름을 지정  \n",
    "- {네임스페이스}/{이미지이름}:{태그} 형식  \n",
    "\n",
    "마지막에는 빌드 컨텍스트 위치를 지정  \n",
    "- 현재 디렉터리를 의미하는 점(.)을 주로 사용  \n",
    "- 필요한 경우 다른 디렉터리를 지정할 수도 있음\n",
    "\n",
    "**1. Dockerfile을 만든다.**\n",
    "```\n",
    "FROM ubuntu:latest \n",
    "RUN apt-get update \n",
    "RUN apt-get install -y git\n",
    "```\n",
    "\n",
    "**2. build**\n",
    "\n",
    "    $ docker build -t ubuntu:git-dockerfile .\n",
    "    => 맨 끝에 경로: Dockerfile이 저장된 경로\n",
    "    => 해당 Dockerfile을 build하여 이미지 생성\n",
    "\n",
    "    $ docker images | grep ubuntu"
   ]
  },
  {
   "cell_type": "markdown",
   "id": "8c030626",
   "metadata": {},
   "source": [
    "## · .dockerignore\n",
    "    - .git이나 민감한 정보를 제외하는 용도로 주로 사용\n",
    "    - 이미지 빌드에서 제외하고 싶은 파일이나 폴더명을 작성한다."
   ]
  },
  {
   "cell_type": "markdown",
   "id": "39d93b38",
   "metadata": {},
   "source": [
    "## · Dockerfile - 이미지 정의 파일"
   ]
  },
  {
   "cell_type": "markdown",
   "id": "668a345a",
   "metadata": {},
   "source": [
    "* FROM: 기본 이미지 지정  \n",
    "    ex) FROM ubuntu:latest  \n",
    "    \n",
    "    \n",
    "* RUN: 쉘 명령어 실행  \n",
    "    ex) RUN apt-get update\n",
    "    \n",
    "    \n",
    "* CMD: 컨테이너 생성시 실행할 명령어\n",
    "    ex) CMD node app.js\n",
    "    \n",
    "\n",
    "* EXPOSE: 오픈되는 포트 정보  \n",
    "    ex) EXPOSE 8000\n",
    "    \n",
    "\n",
    "* WORKDIR: 작업 디렉토리 설정  \n",
    "    ex) WORKDIR /app \n",
    "    \n",
    "    \n",
    "* ENV: 환경변수 설정\n",
    "* ADD: 파일 또는 디렉토리 추가. URL/ZIP 사용가능\n",
    "* COPY: 파일 또는 디렉토리 추가\n",
    "* ENTRYPOINT: 컨테이너 기본 실행 명령어\n",
    "* VOLUME: 외부 마운트 포인트 생성\n",
    "* USER: RUN, CMD, ENTRYPOINT를 실행하는 사용자  \n",
    "* ARGS: 빌드타임 환경변수 설정\n",
    "* LABEL: key - value 데이터\n",
    "* ONBUILD: 다른 빌드의 베이스로 사용될때 사용하는 명령어\n",
    "\n",
    "[참고]  \n",
    "https://docs.docker.com/engine/reference/builder/\n"
   ]
  }
 ],
 "metadata": {
  "kernelspec": {
   "display_name": "Python 3 (ipykernel)",
   "language": "python",
   "name": "python3"
  },
  "language_info": {
   "codemirror_mode": {
    "name": "ipython",
    "version": 3
   },
   "file_extension": ".py",
   "mimetype": "text/x-python",
   "name": "python",
   "nbconvert_exporter": "python",
   "pygments_lexer": "ipython3",
   "version": "3.8.12"
  }
 },
 "nbformat": 4,
 "nbformat_minor": 5
}
