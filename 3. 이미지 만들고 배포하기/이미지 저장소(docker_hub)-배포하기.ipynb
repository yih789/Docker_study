{
 "cells": [
  {
   "cell_type": "markdown",
   "id": "79e41ff5",
   "metadata": {},
   "source": [
    "## · [docker hub](hub.docker.com): 도커 이미지 저장소"
   ]
  },
  {
   "cell_type": "markdown",
   "id": "ac12ad29",
   "metadata": {},
   "source": [
    "### 이미지 저장 & 불러오기 - 배포과정\n",
    "* docker login \n",
    "* docker push {ID}/example: 내가 만든 이미지를 docker-hub에 업로드\n",
    "* docker pull {ID}/example: docker-hub에서 만들어진 이미지 다운로드"
   ]
  }
 ],
 "metadata": {
  "kernelspec": {
   "display_name": "Python 3 (ipykernel)",
   "language": "python",
   "name": "python3"
  },
  "language_info": {
   "codemirror_mode": {
    "name": "ipython",
    "version": 3
   },
   "file_extension": ".py",
   "mimetype": "text/x-python",
   "name": "python",
   "nbconvert_exporter": "python",
   "pygments_lexer": "ipython3",
   "version": "3.8.12"
  }
 },
 "nbformat": 4,
 "nbformat_minor": 5
}
