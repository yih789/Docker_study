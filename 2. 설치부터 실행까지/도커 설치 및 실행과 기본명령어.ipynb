{
 "cells": [
  {
   "cell_type": "markdown",
   "id": "6749614f",
   "metadata": {},
   "source": [
    "## · 도커설치\n",
    "Linux\n",
    "* curl -s https://get.docker.com/ | sudo sh  \n",
    "\\- 명령어를 입력하고 패스워드를 입력하면 리눅스 배포판에 따라 자동으로 최신버전의 \n",
    "도커를 설치\n",
    "* sudo usermod -aG docker ubuntu  \n",
    "\\- ubuntu 유저 권한 추가\n",
    "* 위처럼 docker 그룹에 사용자를 추가해도 permission denied 발생한다면\n",
    "\n",
    "    ~$ sudo chown root:docker /var/run/docker.sock: 소켓 파일 그룹 지정\n",
    "\n",
    "    ~$ sudo chmod 666 /var/run/docker.sock: 소켓 파일 실행권한 변경\n",
    "    \n",
    "* docker version  \n",
    "\\- 설치확인"
   ]
  },
  {
   "cell_type": "markdown",
   "id": "c8ccd977",
   "metadata": {},
   "source": [
    "## · 기본 명령어"
   ]
  },
  {
   "cell_type": "markdown",
   "id": "3c9e3540",
   "metadata": {},
   "source": [
    "### 1. run - 컨테이너 실행\n",
    "\\- docker run [OPTIONS] IMAGE[:TAG|@DIGEST] [COMMAND] [ARG...]\n",
    "* -d: detached mode (백그라운드 모드)\n",
    "* -p: 호스트와 컨테이너의 포트를 연결\n",
    "* -v: 호스트와 컨테이너의 디렉토리를 연결\n",
    "* -e: 컨테이너 내에서 사용할 환경변수 설정\n",
    "* --name: 컨테이너 이름 설정\n",
    "* --rm: 프로세스 종료시 컨테이너 자동 제거\n",
    "* -it: -i와 -t를 동시에 사용한 것으로 터미널 입력을 위한 옵션\n",
    "* --network: 네트워크 연결"
   ]
  },
  {
   "cell_type": "markdown",
   "id": "f524699b",
   "metadata": {},
   "source": [
    "**ex) ubuntu 20.04 컨테이너 만들기**\n",
    "- docker run ubuntu:20.04\n",
    "\n",
    "=> 사용할 이미지가 저장되어 있는지 확인하고 없다면 다운로드(pull) 한 후 컨테이너를 생성(create)하고 시작(start)한다.\n",
    "\n",
    "**ex) /bin/sh 실행하기**\n",
    "- docker run --rm -it ubuntu:20.04 /bin/sh\n",
    "\n",
    "=> 쉘 사용을 위해 sh를 실행하고 키보드 입력을 위해 -it 옵션\n",
    "\n",
    "**ex) 웹 어플리케이션 실행하기**\n",
    "- docker run --rm -p 5678:5678 hashicorp/http-echo -text=\"hello world\"\n",
    "\n",
    "=> localhost:5678에 접속하면 메시지를 볼 수 있다.\n",
    "\n",
    "**ex) MySQL 실행하기**\n",
    "1. mysql 컨테이너 생성\n",
    "- docker run -d -p 3306:3306 \\\n",
    "    -e MYSQL_ALLOW_EMPTY_PASSWORD=true \\\n",
    "    --name mysql \\\n",
    "    mysql:5.7\n",
    "    \n",
    "2. mysql 데이터베이스 실행\n",
    "- docker exec -it mysql mysql  \n",
    "    create database wp CHARACTER SET utf8;  \n",
    "    grant all privileges on wp.* to wp@'%' identified by 'wp';  \n",
    "    flush privileges;  \n",
    "    quit  \n",
    "\n",
    "**ex) 워드프레스 블로그 실행하기**\n",
    "- docker run -d -p 8080:80 \\\n",
    "    -e WORDPRESS_DB_HOST=host.docker.internal \\\n",
    "    -e WORDPRESS_DB_NAME=wp \\\n",
    "    -e WORDPRESS_DB_USER=wp \\\n",
    "    -e WORDPRESS_DB_PASSWORD=wp \\\n",
    "    wordpress\n",
    "\n",
    "=> 앞에서 만든 MySQL을 실행한 상태에서 생생, 웹브라우저 localhost:8080으로 접속"
   ]
  },
  {
   "cell_type": "markdown",
   "id": "87a6c0ea",
   "metadata": {},
   "source": [
    "### 2. exec\n",
    "\\- exec 명령어는 run 명령어와 달리 실행중인 도커 컨테이너에 접속할 때 사용하며 컨테이너 안에 ssh server등을 설치하지 않고 exec 명령어로 접속한다."
   ]
  },
  {
   "cell_type": "markdown",
   "id": "62509a25",
   "metadata": {},
   "source": [
    "### 3. ps\n",
    "- docker ps: 현재 실행중인 컨테이너 목록\n",
    "- docker ps -a: 중지된 컨테이너 목록까지 확인"
   ]
  },
  {
   "cell_type": "markdown",
   "id": "9e5228b7",
   "metadata": {},
   "source": [
    "### 4. stop\n",
    "\\- docker stop [OPTIONS] CONTAINER [CONTAINER...]  \n",
    ": 실행중인 컨테이너를 중지하는 명령어.  \n",
    "실행중인 컨테이너를 하나 또는 여러개 (띄어쓰기) 중지할 수 있다."
   ]
  },
  {
   "cell_type": "markdown",
   "id": "c51c6fab",
   "metadata": {},
   "source": [
    "### 5. logs\n",
    "- docker logs [OPTIONS] CONTAINER  \n",
    ": 컨테이너가 정상적으로 동작하는지 확인  \n",
    "=> 기본 옵션과 -f, --tail 참고"
   ]
  },
  {
   "cell_type": "markdown",
   "id": "d1aaf969",
   "metadata": {},
   "source": [
    "## 6. images\n",
    "\\- docker images\n",
    ": 도커가 다운로드한 이미지 목록 확인"
   ]
  },
  {
   "cell_type": "markdown",
   "id": "18ea6488",
   "metadata": {},
   "source": [
    "## 7. pull\n",
    "\\- docker pull ubuntu:18.04\n",
    ": 이미지를 다운로드하는 명령어"
   ]
  },
  {
   "cell_type": "markdown",
   "id": "0b427f96",
   "metadata": {},
   "source": [
    "### 8. rmi\n",
    "\\- docker rmi [OPTIONS] IMAGE [IMAGE...]  \n",
    ": 다운로드 된 이미지 삭제  \n",
    "=> 단, 컨테이너가 실행중인 이미지는 삭제되지 않는다.\n"
   ]
  },
  {
   "cell_type": "markdown",
   "id": "ff450ab3",
   "metadata": {},
   "source": [
    "### 9. network create\n",
    "\\- docker network create [OPTIONS] NETWORK  \n",
    "=> 도커 컨테이너끼리 이름으로 통신할 수 있는 가상 네트워크를 만든다.\n",
    "\n",
    "ex) docker network create app-network"
   ]
  },
  {
   "cell_type": "markdown",
   "id": "e2b1ce26",
   "metadata": {},
   "source": [
    "### 10. network connect\n",
    "\\- docker network connect [OPTIONS] NETWORK CONTAINER  \n",
    "=> 기존에 생성된 컨테이너에 네트워크를 추가한다.\n",
    "\n",
    "ex) docker network connect app-network mysql"
   ]
  },
  {
   "cell_type": "markdown",
   "id": "0b06afc7",
   "metadata": {},
   "source": [
    "## 11. volume mount (-v)\n",
    "* mysql과 wordpress를 연결해서 사용하다가 mysql 컨테이너를 종료하고 삭제한 후에 다시 wordpress를 접속하면 db error가 뜬다.  \n",
    "왜냐 mysql 컨테이너가 삭제되면서 데이터도 함께 사라지기 때문이다.  \n",
    "이를 방지하기 위해 host 디렉토리와 컨테이너 디렉토리를 연결하여 데이터를 저장해두기 위해 -v 옵션 사용\n",
    "\n",
    "ex)  \n",
    "    1. mysql과 wordpress 연결\n",
    "    2. mysql 삭제 후 다시 생성\n",
    "    3. wordpress 실행 -> db error\n",
    "    4. mysql 다시 삭제 후 -v 옵션을 추가하여 다시 mysql 생성\n",
    "    5. exec mysql로 db 다시 생성\n",
    "    6. 다시 mysql 삭제 후 -v 옵션으로 생성해보면 wordpress와 성공적으로 연결\n",
    "\n",
    "* docker stop mysql  \n",
    "  docker rm mysql  \n",
    "    docker run -d -p 3306:3306 \\\n",
    "    -e MYSQL_ALLOW_EMPTY_PASSWORD=true \\\n",
    "    --network=app-network \\\n",
    "    --name mysql \\\n",
    "    -v '연결하려는 호스트 디렉토리':/var/lib/mysql \\\n",
    "    mysql:5.7"
   ]
  }
 ],
 "metadata": {
  "kernelspec": {
   "display_name": "Python 3 (ipykernel)",
   "language": "python",
   "name": "python3"
  },
  "language_info": {
   "codemirror_mode": {
    "name": "ipython",
    "version": 3
   },
   "file_extension": ".py",
   "mimetype": "text/x-python",
   "name": "python",
   "nbconvert_exporter": "python",
   "pygments_lexer": "ipython3",
   "version": "3.8.12"
  }
 },
 "nbformat": 4,
 "nbformat_minor": 5
}
