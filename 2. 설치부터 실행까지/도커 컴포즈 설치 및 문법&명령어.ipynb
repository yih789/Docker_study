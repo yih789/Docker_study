{
 "cells": [
  {
   "cell_type": "markdown",
   "id": "de51a285",
   "metadata": {},
   "source": [
    "## · 도커 컴포즈 설치\n",
    "Linux\n",
    "* sudo curl -L \"https://github.com/docker/compose/releases/download/1.26.0/\n",
    "docker-compose-$(uname -s)\n",
    "* sudo chmod +x /usr/local/bin/docker-compose\n",
    "* docker-compose version: 설치확인\n"
   ]
  },
  {
   "cell_type": "markdown",
   "id": "16d9bfd3",
   "metadata": {},
   "source": [
    "## · docker-compose.yml\n",
    "\\- docker run '이미지'와 같이 컨테이너를 실행하기 위한 설정을 정의한 파일\n",
    "\n",
    "```\n",
    "version: '2'  \n",
    "services:  \n",
    "    db:  \n",
    "        image: mysql:5.7  \n",
    "        volumes:  \n",
    "            - ./mysql:/var/lib/mysql  \n",
    "        restart: always  \n",
    "        environment:  \n",
    "            MYSQL_ROOT_PASSWORD: wordpress  \n",
    "            MYSQL_DATABASE: wordpress  \n",
    "            MYSQL_USER: wordpress  \n",
    "            MYSQL_PASSWORD: wordpress  \n",
    "    wordpress:  \n",
    "        image: wordpress:latest  \n",
    "        volumes:  \n",
    "            - ./wp:/var/www/html  \n",
    "        ports:  \n",
    "            - \"8000:80\"  \n",
    "        restart: always  \n",
    "        environment:  \n",
    "            WORDPRESS_DB_HOST: db:3306  \n",
    "            WORDPRESS_DB_PASSWORD: wordpress\n",
    "```"
   ]
  },
  {
   "cell_type": "markdown",
   "id": "09c42a51",
   "metadata": {},
   "source": [
    "1. **version: docker-compose.yml 버전에 따라 지원하는 도커 엔진 버전도 다름\n",
    "2. services: docker run --name '컨테이너'와 같다고 생각할 수 있음  \n",
    "    => db, wordpress가 --name 조건과 같다.\n",
    "3. image: 컨테이너에 사용할 이미지 이름과 태그  \n",
    "    => 태그를 생략하면 latest\n",
    "4. ports: 컨테이너와 연결할 포트 {호스트 포트}:{컨테이너 포트}\n",
    "5. environment: 컨테이너에서 사용할 환경변수 {환경변수 이름}:{값}\n",
    "6. volumes: 마운트하려는 디렉터리{호스트 디렉터리}:{컨테이너 디렉터리}\n",
    "7. restart: 재시작 정책\n",
    "    * restart: \"no\" \n",
    "    * restart: always \n",
    "    * restart: on-failure \n",
    "    * restart: unless-stopped\n",
    "8. build: image 속성 대신 사용  \n",
    "    => 여기에 사용할 별도의 도커 파일이 필요\n",
    "    ```\n",
    "     django:\n",
    "         build:\n",
    "             context: .\n",
    "             dockerfile: ./compose/django/Dockerfile-dev\n",
    "     ```"
   ]
  },
  {
   "cell_type": "markdown",
   "id": "aed2620f",
   "metadata": {},
   "source": [
    "## · 도커 컴포즈 명령어\n",
    "\n",
    "### 1. up\n",
    "\\- docker-compose.yml에 정의된 컨테이너를 실행\n",
    "\n",
    "- docker-compose up \n",
    "- docker-compose up -d  \n",
    "    => docker run의 -d 옵션과 동일 \n",
    "- docker-compose up --force-recreate  \n",
    "    => 컨테이너를 새로 만들기 \n",
    "- docker-compose up --build  \n",
    "    => 도커 이미지를 다시 빌드(build로 선언했을 때만)"
   ]
  },
  {
   "cell_type": "markdown",
   "id": "d5718215",
   "metadata": {},
   "source": [
    "### 2. start\n",
    "멈춘 컨테이너를 재개\n",
    "- docker-compose start \n",
    "- docker-compose start wordpress \n",
    "- wordpress 컨테이너만 재개"
   ]
  },
  {
   "cell_type": "markdown",
   "id": "336635ac",
   "metadata": {},
   "source": [
    "### 3. restart\n",
    "\n",
    "컨테이너를 재시작\n",
    "- docker-compose restart \n",
    "- docker-compose restart wordpress \n",
    "- wordpress 컨테이너만 재시작"
   ]
  },
  {
   "cell_type": "markdown",
   "id": "cc2a66fb",
   "metadata": {},
   "source": [
    "### 4. stop\n",
    "\n",
    "컨테이너 멈춤\n",
    "- docker-compose stop \n",
    "- docker-compose stop wordpress \n",
    "- wordpress 컨테이너만 멈춤\n"
   ]
  },
  {
   "cell_type": "markdown",
   "id": "95a213c9",
   "metadata": {},
   "source": [
    "### 5. down\n",
    "\n",
    "컨테이너를 종료하고 삭제\n",
    "- docker-compose down\n",
    "\n"
   ]
  },
  {
   "cell_type": "markdown",
   "id": "f6f7eed4",
   "metadata": {},
   "source": [
    "### 6. logs\n",
    "\n",
    "컨테이너의 로그\n",
    "- docker-compose logs \n",
    "- docker-compose logs -f \n",
    "- 로그 follow\n",
    "\n"
   ]
  },
  {
   "cell_type": "markdown",
   "id": "db800784",
   "metadata": {},
   "source": [
    "### 7. ps\n",
    "\n",
    "컨테이너 목록\n",
    "- docker-compose ps"
   ]
  },
  {
   "cell_type": "markdown",
   "id": "a7f4985c",
   "metadata": {},
   "source": [
    "### 8. exec\n",
    "\n",
    "실행 중인 컨테이너에서 명령어 실행\n",
    "- docker-compose exec {컨테이너 이름} {명령어}\n",
    "- docker-compose exec wordpress bash"
   ]
  },
  {
   "cell_type": "markdown",
   "id": "853bb3a2",
   "metadata": {},
   "source": [
    "### 9. build\n",
    "\n",
    "컨테이너 build 부분에 정의된 내용대로 빌드\n",
    "\n",
    "- build로 선언된 컨테이너만 빌드됨 \n",
    "<Br/><Br/>\n",
    "- docker-compose build \n",
    "- docker-compose build wordpress \n",
    "- wordpress 컨테이너만 build\n"
   ]
  }
 ],
 "metadata": {
  "kernelspec": {
   "display_name": "Python 3 (ipykernel)",
   "language": "python",
   "name": "python3"
  },
  "language_info": {
   "codemirror_mode": {
    "name": "ipython",
    "version": 3
   },
   "file_extension": ".py",
   "mimetype": "text/x-python",
   "name": "python",
   "nbconvert_exporter": "python",
   "pygments_lexer": "ipython3",
   "version": "3.8.12"
  }
 },
 "nbformat": 4,
 "nbformat_minor": 5
}
